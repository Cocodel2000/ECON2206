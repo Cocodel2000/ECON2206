{
 "cells": [
  {
   "attachments": {},
   "cell_type": "markdown",
   "metadata": {},
   "source": [
    "# Data management\n",
    "\n",
    "## Case study: Management quality and firm size: describing patterns of association\n",
    "\n",
    "## [Michel Coppée](https://www.uliege.be/cms/c_9054334/fr/repertoire?uid=u224042) & [Malka Guillot](https://malkaguillot.github.io/)\n",
    "\n",
    "## HEC Liège | [ECON2306]()\n",
    "\n",
    "[![Binder](https://mybinder.org/badge_logo.svg)](https://mybinder.org/v2/gh/malkaguillot/ECON2206-Data-Management-2023/HEAD?labpath=%2Fpractice%2F3.1-correlation.ipynb)"
   ]
  },
  {
   "cell_type": "markdown",
   "metadata": {},
   "source": [
    "This case study aims to use data to study the relationship between firm management and firm size. \n",
    "\n",
    "Data: `wms-management-survey` dataset\n",
    "\n",
    "Reference: *Data Analysis for Business, Economics, and Policy* by Gabor Bekes and  Gabor Kezdi, chapter 4 ( [website](https://gabors-data-analysis.com/) )"
   ]
  },
  {
   "cell_type": "code",
   "execution_count": 1,
   "metadata": {},
   "outputs": [],
   "source": [
    "import os\n",
    "import sys\n",
    "\n",
    "import numpy as np\n",
    "import pandas as pd\n",
    "from mizani.formatters import percent_format\n",
    "from plotnine import *\n",
    "\n",
    "# Current script folder\n",
    "current_path = os.getcwd()\n",
    "\n",
    "dirname = current_path.split(\"practice\")[0]\n",
    "#print(dirname)\n",
    "\n",
    "# location folders\n",
    "data_in = dirname + \"data/\"\n",
    "data_out = dirname + \"practice/\"\n",
    "output = dirname + \"practice/output/\"\n",
    "\n",
    "func = dirname + \"practice/utils/\"\n",
    "sys.path.append(func)\n",
    "from py_helper_functions_short import *"
   ]
  },
  {
   "cell_type": "code",
   "execution_count": 2,
   "metadata": {},
   "outputs": [],
   "source": [
    "import warnings\n",
    "warnings.filterwarnings(\"ignore\")"
   ]
  },
  {
   "cell_type": "markdown",
   "metadata": {},
   "source": [
    "### 1. Import the `wms_da_textbook.csv` data"
   ]
  },
  {
   "cell_type": "code",
   "execution_count": null,
   "metadata": {},
   "outputs": [],
   "source": [
    "# Import data\n",
    "df = pd.read_csv(data_in + \"wms_da_textbook.csv\")"
   ]
  },
  {
   "cell_type": "markdown",
   "metadata": {},
   "source": [
    "<div class=\"alert alert-info\">\n",
    "<h4> Your turn</h4>\n",
    "    Select the following observation for `df` (and replace `df` with the corresponding selection): \n",
    "    \n",
    "    - Country = Mexico,\n",
    "    - year = 2013\n",
    "    - firms with a number of employees between 100 & 5000 (column name = `emp_firm`)\n",
    "    \n",
    "</div>\n"
   ]
  },
  {
   "cell_type": "code",
   "execution_count": null,
   "metadata": {},
   "outputs": [],
   "source": []
  },
  {
   "cell_type": "code",
   "execution_count": null,
   "metadata": {},
   "outputs": [],
   "source": []
  },
  {
   "cell_type": "markdown",
   "metadata": {},
   "source": [
    "Summary of our 2 main variables of interest:"
   ]
  },
  {
   "cell_type": "code",
   "execution_count": null,
   "metadata": {},
   "outputs": [],
   "source": [
    "df.filter([\"management\", \"emp_firm\"]).describe()"
   ]
  },
  {
   "cell_type": "markdown",
   "metadata": {},
   "source": [
    "# Distribution of the management score variable"
   ]
  },
  {
   "cell_type": "code",
   "execution_count": null,
   "metadata": {},
   "outputs": [],
   "source": [
    "(\n",
    "    ggplot(df, aes(x=\"management\"))\n",
    "    + geom_histogram(\n",
    "        aes(y=\"stat(count)/sum(stat(count))\"),\n",
    "        fill=color[0],\n",
    "        color=\"white\",\n",
    "        binwidth=0.25,\n",
    "        boundary=0,\n",
    "        closed=\"left\",\n",
    "    )\n",
    "    + labs(x=\"Management score\", y=\"Percent\")\n",
    "    + scale_x_continuous(expand=(0.01, 0.01), limits=(1, 5))\n",
    "    + scale_y_continuous(\n",
    "        expand=(0.00, 0.00),\n",
    "        limits=(0, 0.25),\n",
    "        breaks=seq(0, 0.26, by=0.05),\n",
    "        labels=percent_format(),\n",
    "    )\n",
    "    + theme_bw()\n",
    ")\n"
   ]
  },
  {
   "cell_type": "markdown",
   "metadata": {},
   "source": [
    "<div class=\"alert alert-info\">\n",
    "<h3> Your turn: Plot the distribution of employment </h3>\n",
    "    \n",
    "- variable= the number of employee (`emp_firm`)\n",
    "- What type of graph will you use? \n",
    "- hint: you can use the `ggplot` function from `plotline` (cf. notebook `2.3-plotnine_intro`)\n",
    "- specify meaningful y-axis & x-axis labels\n",
    "    \n",
    "</div>\n"
   ]
  },
  {
   "cell_type": "markdown",
   "metadata": {},
   "source": [
    "(a) Number of employees"
   ]
  },
  {
   "cell_type": "code",
   "execution_count": null,
   "metadata": {},
   "outputs": [],
   "source": [
    "(\n",
    "    ggplot(df, aes(x=\"emp_firm\", y=\"stat(count)/sum(stat(count))\"))\n",
    "    + geom_histogram(\n",
    "        fill=color[0], color=\"white\", binwidth=200, boundary=0, closed=\"left\"\n",
    "    )\n",
    "    + labs(x=\"Firm size (employment)\", y=\"Percent\")\n",
    "    + scale_x_continuous(\n",
    "        expand=(0.01, 0.01), limits=(0, 5000), breaks=seq(0, 5001, by=1000)\n",
    "    )\n",
    "    + scale_y_continuous(\n",
    "        expand=(0.00, 0.00),\n",
    "        limits=(0, 0.3),\n",
    "        breaks=seq(0, 0.5, by=0.05),\n",
    "        labels=percent_format(),\n",
    "    )\n",
    "    + theme_bw()\n",
    ")\n"
   ]
  },
  {
   "cell_type": "markdown",
   "metadata": {},
   "source": [
    "<div class=\"alert alert-info\">\n",
    "<h3> Your turn: Plot the distribution of log(#employment) </h3>\n",
    "    \n",
    "1. Create such a variable and name it `lnemp`\n",
    "2. Plot the distribution\n",
    "</div>\n"
   ]
  },
  {
   "cell_type": "code",
   "execution_count": null,
   "metadata": {},
   "outputs": [],
   "source": []
  },
  {
   "cell_type": "markdown",
   "metadata": {},
   "source": [
    "(b) Natural log of number of employees"
   ]
  },
  {
   "cell_type": "code",
   "execution_count": null,
   "metadata": {},
   "outputs": [],
   "source": []
  },
  {
   "cell_type": "code",
   "execution_count": null,
   "metadata": {},
   "outputs": [],
   "source": [
    "df[\"emp3bins\"] = np.where(df[\"emp_firm\"] < 200, 1, pd.np.nan)\n",
    "df[\"emp3bins\"] = np.where(\n",
    "    (df[\"emp_firm\"] >= 200) & (df[\"emp_firm\"] < 1000), 2, df[\"emp3bins\"]\n",
    ")\n",
    "df[\"emp3bins\"] = np.where(df[\"emp_firm\"] >= 1000, 3, df[\"emp3bins\"])"
   ]
  },
  {
   "cell_type": "code",
   "execution_count": null,
   "metadata": {},
   "outputs": [],
   "source": [
    "df[\"emp3bins\"].describe()\n"
   ]
  },
  {
   "cell_type": "markdown",
   "metadata": {},
   "source": [
    "### Figure: Quality of specific management practices by three bins of firm size: conditional probabilities"
   ]
  },
  {
   "cell_type": "markdown",
   "metadata": {},
   "source": [
    "(a) Lean management"
   ]
  },
  {
   "cell_type": "code",
   "execution_count": null,
   "metadata": {},
   "outputs": [],
   "source": [
    "df1 = (\n",
    "    df.filter([\"emp3bins\", \"lean1\"])\n",
    "    .groupby([\"emp3bins\", \"lean1\"])\n",
    "    .agg(Count=(\"emp3bins\", \"size\"))\n",
    "    .reset_index()\n",
    ")\n",
    "df1[\"Group_count\"] = df1.groupby(\"emp3bins\")[\"Count\"].transform(\"sum\")\n",
    "df1[\"Percent\"] = df1[\"Count\"] / df1[\"Group_count\"]\n",
    "df1[\"lean1\"] = pd.Categorical(\n",
    "    df1[\"lean1\"], categories=sorted(set(df1[\"lean1\"]), reverse=True)\n",
    ")\n",
    "df1[\"emp3bins\"] = pd.Categorical(\n",
    "    df1[\"emp3bins\"], categories=sorted(set(df1[\"emp3bins\"]), reverse=True)\n",
    ")"
   ]
  },
  {
   "cell_type": "code",
   "execution_count": null,
   "metadata": {},
   "outputs": [],
   "source": [
    "(\n",
    "    ggplot(df1, aes(x=\"emp3bins\", y=\"Percent\", fill=\"lean1\"))\n",
    "    + geom_bar(\n",
    "        stat=\"identity\", position=\"fill\", width=0.6, color=\"white\", size=0.5, alpha=0.8\n",
    "    )\n",
    "    + scale_y_continuous(\n",
    "        expand=(0, 0),\n",
    "        limits=(0, 1),\n",
    "        breaks=seq(0, 1.1, by=0.2),\n",
    "        labels=percent_format(),\n",
    "    )\n",
    "    + labs(x=\"Firm size (employment), 3 bins\", y=\"Percent\")\n",
    "    + theme_bw()\n",
    "    + theme(legend_position=\"right\")\n",
    "    + scale_fill_manual(\n",
    "        values=(color[2], color[0], color[4], color[1], color[3]), name=\" \"\n",
    "    )\n",
    ")\n"
   ]
  },
  {
   "cell_type": "markdown",
   "metadata": {},
   "source": [
    "(b) Performance tracking"
   ]
  },
  {
   "cell_type": "code",
   "execution_count": null,
   "metadata": {},
   "outputs": [],
   "source": [
    "df1 = (\n",
    "    df.filter([\"emp3bins\", \"perf2\"])\n",
    "    .groupby([\"emp3bins\", \"perf2\"])\n",
    "    .agg(Count=(\"emp3bins\", \"size\"))\n",
    "    .reset_index()\n",
    ")\n",
    "df1[\"Group_count\"] = df1.groupby(\"emp3bins\")[\"Count\"].transform(\"sum\")\n",
    "df1[\"Percent\"] = df1[\"Count\"] / df1[\"Group_count\"]\n",
    "df1[\"perf2\"] = pd.Categorical(\n",
    "    df1[\"perf2\"], categories=sorted(set(df1[\"perf2\"]), reverse=True)\n",
    ")\n",
    "df1[\"emp3bins\"] = pd.Categorical(\n",
    "    df1[\"emp3bins\"], categories=sorted(set(df1[\"emp3bins\"]), reverse=True)\n",
    ")"
   ]
  },
  {
   "cell_type": "code",
   "execution_count": null,
   "metadata": {},
   "outputs": [],
   "source": [
    "(\n",
    "    ggplot(df1, aes(x=\"emp3bins\", y=\"Percent\", fill=\"perf2\"))\n",
    "    + geom_bar(\n",
    "        stat=\"identity\", position=\"fill\", width=0.6, color=\"white\", size=0.5, alpha=0.8\n",
    "    )\n",
    "    + scale_y_continuous(\n",
    "        expand=(0, 0),\n",
    "        limits=(0, 1),\n",
    "        breaks=seq(0, 1.1, by=0.2),\n",
    "        labels=percent_format(),\n",
    "    )\n",
    "    + labs(x=\"Firm size (employment), 3 bins\", y=\"Percent\")\n",
    "    + theme_bw()\n",
    "    + theme(legend_position=\"right\")\n",
    "    + scale_fill_manual(\n",
    "        values=(color[2], color[0], color[4], color[1], color[3]), name=\" \"\n",
    "    )\n",
    ")"
   ]
  },
  {
   "cell_type": "code",
   "execution_count": null,
   "metadata": {},
   "outputs": [],
   "source": [
    "# Bin scatters avg score by employment bins\n",
    "\n",
    "# Option 1: create 3 bins as defined by thresholds\n",
    "\n",
    "# Summary\n",
    "\n",
    "df.groupby(\"emp3bins\")[\"emp_firm\"].agg([\"min\", \"max\", \"mean\", \"median\", np.std, \"size\"])"
   ]
  },
  {
   "cell_type": "code",
   "execution_count": null,
   "metadata": {},
   "outputs": [],
   "source": [
    "# Recode employee bins\n",
    "df[\"emp3bins\"] = df[\"emp3bins\"].replace(1, 150).replace(2, 600).replace(3, 3000)\n"
   ]
  },
  {
   "cell_type": "code",
   "execution_count": null,
   "metadata": {},
   "outputs": [],
   "source": [
    "# Summary\n",
    "df.groupby(\"emp3bins\")[\"emp_firm\"].agg([\"min\", \"max\", \"mean\", \"median\", np.std, \"size\"])"
   ]
  },
  {
   "cell_type": "code",
   "execution_count": null,
   "metadata": {},
   "outputs": [],
   "source": [
    "# Generate variables by mean\n",
    "df1 = (\n",
    "    df.groupby(\"emp3bins\").agg(management_emp3bins=(\"management\", \"mean\")).reset_index()\n",
    ")\n",
    "df1\n"
   ]
  },
  {
   "cell_type": "markdown",
   "metadata": {},
   "source": [
    "### Figure 4.4 Mean management quality score and firm size"
   ]
  },
  {
   "cell_type": "markdown",
   "metadata": {},
   "source": [
    "(a) Three bins of employment"
   ]
  },
  {
   "cell_type": "code",
   "execution_count": null,
   "metadata": {},
   "outputs": [],
   "source": [
    "(\n",
    "    ggplot(df1, aes(x=\"emp3bins\", y=\"management_emp3bins\"))\n",
    "    + geom_point(size=2, color=color[2], fill=color[0], alpha=0.8, na_rm=True)\n",
    "    + scale_y_continuous(\n",
    "        expand=(0.01, 0.01), limits=(2.4, 3.4), breaks=seq(2.4, 3.5, by=0.2)\n",
    "    )\n",
    "    + scale_x_continuous(\n",
    "        expand=(0.01, 0.01), limits=(0, 3000), breaks=seq(0, 3001, by=500)\n",
    "    )\n",
    "    + labs(x=\"Firm size (employment), 3 bins\", y=\"Management score\")\n",
    "    + theme_bw()\n",
    ")\n"
   ]
  },
  {
   "cell_type": "code",
   "execution_count": null,
   "metadata": {},
   "outputs": [],
   "source": [
    "df[\"emp10bins\"] = pd.qcut(df[\"emp_firm\"], 10)\n"
   ]
  },
  {
   "cell_type": "code",
   "execution_count": null,
   "metadata": {},
   "outputs": [],
   "source": [
    "# Summary\n",
    "df_summary = (\n",
    "    df.filter([\"emp_firm\", \"emp10bins\"])\n",
    "    .groupby(\"emp10bins\")\n",
    "    .agg([\"min\", \"max\", \"mean\", \"median\", np.std, \"size\"])\n",
    ")\n",
    "df_summary\n"
   ]
  },
  {
   "cell_type": "code",
   "execution_count": null,
   "metadata": {},
   "outputs": [],
   "source": [
    "# Recode with bin means\n",
    "df = df.replace({\"emp10bins\": df_summary[\"emp_firm\"][\"mean\"].to_dict()})\n"
   ]
  },
  {
   "cell_type": "code",
   "execution_count": null,
   "metadata": {},
   "outputs": [],
   "source": [
    "df.groupby(\"emp10bins\")[\"emp_firm\"].agg(\n",
    "    [\"min\", \"max\", \"mean\", \"median\", np.std, \"size\"]\n",
    ")"
   ]
  },
  {
   "cell_type": "code",
   "execution_count": null,
   "metadata": {},
   "outputs": [],
   "source": [
    "# Generate variables by mean\n",
    "df1 = (\n",
    "    df.groupby(\"emp10bins\")\n",
    "    .agg(management_emp10bins=(\"management\", \"mean\"))\n",
    "    .reset_index()\n",
    "    .assign(emp10bins = lambda x: x[\"emp10bins\"].astype(int))\n",
    ")\n",
    "df1\n"
   ]
  },
  {
   "cell_type": "markdown",
   "metadata": {},
   "source": [
    "(b) Ten bins of employment"
   ]
  },
  {
   "cell_type": "code",
   "execution_count": null,
   "metadata": {},
   "outputs": [],
   "source": [
    "(\n",
    "    ggplot(df1, aes(x=\"emp10bins\", y=\"management_emp10bins\"))\n",
    "    + geom_point(size=2, color=color[2], fill=color[0], alpha=0.8, na_rm=True)\n",
    "    + scale_y_continuous(\n",
    "        expand=(0.01, 0.01), limits=(2.5, 3.5), breaks=seq(2.5, 3.6, by=0.25)\n",
    "    )\n",
    "    + scale_x_continuous(\n",
    "        expand=(0.01, 0.01), limits=(0, 3500), breaks=seq(0, 3501, by=500)\n",
    "    )\n",
    "    + labs(x=\"Firm size (employment), 10 bins\", y=\"Management score\")\n",
    "    + theme_bw()\n",
    ")\n"
   ]
  },
  {
   "cell_type": "markdown",
   "metadata": {},
   "source": [
    "### Figure 4.5 The joint distribution of the management quality score and firm size"
   ]
  },
  {
   "cell_type": "markdown",
   "metadata": {},
   "source": [
    "(a) By employment"
   ]
  },
  {
   "cell_type": "code",
   "execution_count": null,
   "metadata": {},
   "outputs": [],
   "source": [
    "(\n",
    "    ggplot(df, aes(x=\"emp_firm\", y=\"management\"))\n",
    "    + geom_point(color=color[0], size=1.5, alpha=0.8, show_legend=False, na_rm=True)\n",
    "    + scale_x_continuous(\n",
    "        expand=(0.01, 0.01), limits=(0, 5000), breaks=seq(0, 5001, by=1000)\n",
    "    )\n",
    "    + scale_y_continuous(expand=(0.01, 0.01), limits=(1, 5), breaks=seq(1, 6, 1))\n",
    "    + labs(x=\"Firm size (employment)\", y=\"Management score\")\n",
    "    + theme_bw()\n",
    ")\n"
   ]
  },
  {
   "cell_type": "markdown",
   "metadata": {},
   "source": [
    "(b) By log employment"
   ]
  },
  {
   "cell_type": "code",
   "execution_count": null,
   "metadata": {},
   "outputs": [],
   "source": [
    "df[\"lnemp\"] = np.log(df[\"emp_firm\"])\n",
    "\n",
    "(\n",
    "    ggplot(df, aes(x=\"lnemp\", y=\"management\"))\n",
    "    + geom_point(color=color[0], size=1.5, alpha=0.8, show_legend=False, na_rm=True)\n",
    "    + scale_x_continuous(expand=(0.01, 0.01), limits=(4, 9), breaks=seq(4, 10, by=1))\n",
    "    + scale_y_continuous(expand=(0.01, 0.01), limits=(1, 5), breaks=seq(1, 6, 1))\n",
    "    + labs(x=\"Firm size (ln(employment))\", y=\"Management score\")\n",
    "    + theme_bw()\n",
    ")\n"
   ]
  },
  {
   "cell_type": "markdown",
   "metadata": {},
   "source": [
    "### Figure 4.6 Conditional summary statistics of the management score by bins of firm size"
   ]
  },
  {
   "cell_type": "code",
   "execution_count": null,
   "metadata": {},
   "outputs": [],
   "source": [
    "df = df.replace({\"emp3bins\": {150: \"Small\", 600: \"Medium\", 3000: \"Large\"}})\n",
    "df['emp3bins'] = pd.Categorical(df['emp3bins'], categories=sorted(set(df['emp3bins']), reverse=True))"
   ]
  },
  {
   "cell_type": "markdown",
   "metadata": {},
   "source": [
    "Box plots"
   ]
  },
  {
   "cell_type": "code",
   "execution_count": null,
   "metadata": {},
   "outputs": [],
   "source": [
    "(\n",
    "    ggplot(df, aes(x=\"emp3bins\", y=\"management\", group=\"emp3bins\"))\n",
    "    + stat_boxplot(\n",
    "        geom=\"errorbar\",\n",
    "        width=0.5,\n",
    "        color=(color[1], color[0], color[2]),\n",
    "        size=0.5,\n",
    "        na_rm=True,\n",
    "    )\n",
    "    + geom_boxplot(\n",
    "        color=(color[1], color[0], color[2]), size=0.5, width=0.5, na_rm=True\n",
    "    )\n",
    "    + labs(x=\"Firm size (employment), 3 bins\", y=\"Management score\")\n",
    "    + scale_y_continuous(expand=(0.01, 0.01), limits=(1, 5), breaks=seq(1, 5, 1))\n",
    "    + theme_bw()\n",
    ")"
   ]
  },
  {
   "cell_type": "code",
   "execution_count": null,
   "metadata": {},
   "outputs": [],
   "source": [
    "import seaborn as sns\n",
    "import matplotlib as mpl\n",
    "import matplotlib.pyplot as plt\n",
    "import matplotlib.ticker as mtick\n",
    "sns.set_style(\"whitegrid\")"
   ]
  },
  {
   "cell_type": "code",
   "execution_count": null,
   "metadata": {},
   "outputs": [],
   "source": [
    "fig, ax = plt.subplots()\n",
    "sns.boxplot(\n",
    "    data=df, x=\"emp3bins\", y=\"management\", width=0.5, ax=ax, flierprops={\"marker\": \"o\"}\n",
    ")\n",
    "\n",
    "box_line_col = [color[1], color[0], color[2]]\n",
    "for i, box_col in enumerate(box_line_col):\n",
    "    mybox = ax.patches[i]\n",
    "    mybox.set_facecolor(mpl.colors.to_rgba(box_col, 0.5))\n",
    "    mybox.set_edgecolor(box_col)\n",
    "    for j in range(i * 6, i * 6 + 6):\n",
    "        line = ax.lines[j]\n",
    "        line.set_color(box_col)\n",
    "        line.set_mfc(mpl.colors.to_rgba(box_col, 0.5))\n",
    "        line.set_mec(mpl.colors.to_rgba(box_col, 0.5))\n",
    "\n",
    "plt.ylabel(\"Management score\", size=12)\n",
    "plt.xlabel(\"Firm size (employment), 3 bins\", size=12)\n",
    "plt.yticks(seq(1, 5, 1))\n",
    "add_margin(ax, x=0.1, y=0.01)\n",
    "plt.show()"
   ]
  },
  {
   "cell_type": "markdown",
   "metadata": {},
   "source": [
    "Violin plot"
   ]
  },
  {
   "cell_type": "code",
   "execution_count": null,
   "metadata": {},
   "outputs": [],
   "source": [
    "(\n",
    "    ggplot(\n",
    "        df,\n",
    "        aes(x=\"emp3bins\", y=\"management\", color=\"emp3bins\", group=\"emp3bins\"),\n",
    "    )\n",
    "    + geom_violin(size=0.3, alpha=0.5, trim=False, show_legend=False, na_rm=True)\n",
    "    + geom_boxplot(size=0.5, width=0.2, alpha=0.3, na_rm=True)\n",
    "    + labs(x=\"Firm size (employment), 3 bins\", y=\"Management score\")\n",
    "    + scale_color_manual(values=(color[1], color[0], color[2]))\n",
    "    + scale_y_continuous(expand=(0.01, 0.01), limits=(0, 6), breaks=seq(0, 6, 1))\n",
    "    + guides(fill=False, color=False)\n",
    "    + theme_bw()\n",
    ")"
   ]
  },
  {
   "cell_type": "code",
   "execution_count": null,
   "metadata": {},
   "outputs": [],
   "source": [
    "fig, ax = plt.subplots()\n",
    "sns.violinplot(\n",
    "    data=df,\n",
    "    x=\"emp3bins\",\n",
    "    y=\"management\",\n",
    "    ax=ax,\n",
    "    flierprops={\"marker\": \"o\"},\n",
    "    width=1,\n",
    "    linewidth=0.8,\n",
    "    inner=None,\n",
    ")\n",
    "\n",
    "violin_line_col = [color[1], color[0], color[2]]\n",
    "for i, violin_col in enumerate(violin_line_col):\n",
    "    mybox = ax.collections[i]\n",
    "    mybox.set_facecolor(mpl.colors.to_rgba(violin_col, 0.3))\n",
    "    mybox.set_edgecolor(violin_col)\n",
    "\n",
    "sns.boxplot(\n",
    "    data=df,\n",
    "    x=\"emp3bins\",\n",
    "    y=\"management\",\n",
    "    ax=ax,\n",
    "    width=0.23,\n",
    "    showcaps=False,\n",
    "    flierprops={\"marker\": \"o\"},\n",
    ")\n",
    "\n",
    "box_line_col = [color[1], color[0], color[2]]\n",
    "for i, box_col in enumerate(box_line_col):\n",
    "    mybox = ax.patches[i]\n",
    "    mybox.set_facecolor(mpl.colors.to_rgba(box_col, 0.4))\n",
    "    mybox.set_edgecolor(box_col)\n",
    "    for j in range(i * 4, i * 4 + 4):\n",
    "        line = ax.lines[j]\n",
    "        line.set_color(box_col)\n",
    "        line.set_mfc(mpl.colors.to_rgba(box_col, 0.4))\n",
    "        line.set_mec(mpl.colors.to_rgba(box_col, 0.4))\n",
    "\n",
    "plt.ylabel(\"Management score\", size=12)\n",
    "plt.xlabel(\"Firm size (employment), 3 bins\", size=12)\n",
    "plt.yticks(seq(0, 6, 1))\n",
    "add_margin(ax, x=0.1, y=0.01)\n",
    "plt.show()"
   ]
  },
  {
   "cell_type": "code",
   "execution_count": null,
   "metadata": {},
   "outputs": [],
   "source": [
    "# Correlation\n",
    "df[\"management\"].corr(df[\"emp_firm\"])"
   ]
  },
  {
   "cell_type": "code",
   "execution_count": null,
   "metadata": {},
   "outputs": [],
   "source": [
    "# by industry\n",
    "df.loc[df[\"sic\"] <= 21, \"industry_broad\"] = \"food_drinks_tobacco\"\n",
    "df.loc[\n",
    "    ((df[\"sic\"] >= 22) & (df[\"sic\"] <= 23)) | (df[\"sic\"] == 31), \"industry_broad\"\n",
    "] = \"textile_apparel_leather_etc\"\n",
    "df.loc[(df[\"sic\"] >= 24) & (df[\"sic\"] <= 27), \"industry_broad\"] = \"wood_furniture_paper\"\n",
    "df.loc[(df[\"sic\"] >= 28) & (df[\"sic\"] <= 30), \"industry_broad\"] = \"chemicals_etc\"\n",
    "df.loc[(df[\"sic\"] >= 32) & (df[\"sic\"] < 35), \"industry_broad\"] = \"materials_metals\"\n",
    "df.loc[(df[\"sic\"] >= 35) & (df[\"sic\"] < 37), \"industry_broad\"] = \"electronics\"\n",
    "df.loc[df[\"sic\"] == 37, \"industry_broad\"] = \"auto\"\n",
    "df.loc[df[\"sic\"] >= 38, \"industry_broad\"] = \"other\""
   ]
  },
  {
   "cell_type": "code",
   "execution_count": null,
   "metadata": {},
   "outputs": [],
   "source": [
    "df[\"industry_broad\"].value_counts()\n"
   ]
  },
  {
   "cell_type": "code",
   "execution_count": null,
   "metadata": {},
   "outputs": [],
   "source": [
    "# Correlation\n",
    "df.groupby(\"industry_broad\")[\"management\", \"emp_firm\"].corr().iloc[0::2, -1]\n"
   ]
  },
  {
   "cell_type": "code",
   "execution_count": null,
   "metadata": {},
   "outputs": [],
   "source": [
    "(\n",
    "    df.loc[df[\"industry_broad\"].notna(), [\"management\", \"industry_broad\"]]\n",
    "    .groupby(\"industry_broad\")\n",
    "    .agg(\n",
    "        Min=(\"management\", min),\n",
    "        Max=(\"management\", max),\n",
    "        SD=(\"management\", np.std),\n",
    "        Median=(\"management\", \"median\"),\n",
    "        n=(\"management\", \"size\"),\n",
    "    )\n",
    "    .round(3)\n",
    ")"
   ]
  },
  {
   "cell_type": "code",
   "execution_count": null,
   "metadata": {
    "scrolled": false
   },
   "outputs": [],
   "source": [
    "(\n",
    "    df.loc[df[\"industry_broad\"].notna(), [\"emp_firm\", \"industry_broad\"]]\n",
    "    .groupby(\"industry_broad\")\n",
    "    .agg(\n",
    "        Min=(\"emp_firm\", min),\n",
    "        Max=(\"emp_firm\", max),\n",
    "        SD=(\"emp_firm\", np.std),\n",
    "        Median=(\"emp_firm\", \"median\"),\n",
    "        n=(\"emp_firm\", \"size\"),\n",
    "    )\n",
    "    .round(3)\n",
    ")"
   ]
  },
  {
   "cell_type": "code",
   "execution_count": null,
   "metadata": {},
   "outputs": [],
   "source": [
    "# Correlation\n",
    "cor = (\n",
    "    df.groupby(\"industry_broad\")[\"management\", \"emp_firm\"]\n",
    "    .corr()\n",
    "    .iloc[0::2, -1]\n",
    "    .reset_index()\n",
    "    .drop([\"level_1\"], axis=1)\n",
    "    .set_index(\"industry_broad\")\n",
    "    .rename({\"emp_firm\": \"correlation\"}, axis=1)\n",
    ")\n",
    "cor.round(3)"
   ]
  },
  {
   "cell_type": "code",
   "execution_count": null,
   "metadata": {},
   "outputs": [],
   "source": [
    "table41 = (\n",
    "    df.filter([\"emp_firm\", \"industry_broad\", \"management\"])\n",
    "    .groupby(\"industry_broad\")\n",
    "    .agg(Mean=(\"management\", \"mean\"), Obs=(\"management\", \"size\"))\n",
    ")\n",
    "table41[\"Corr\"] = cor[\"correlation\"]"
   ]
  },
  {
   "cell_type": "code",
   "execution_count": null,
   "metadata": {},
   "outputs": [],
   "source": [
    "table41.index = [\n",
    "    \"Auto\",\n",
    "    \"Chemicals\",\n",
    "    \"Machinery, equipment, electronics\",\n",
    "    \"Food, drinks, tobacco\",\n",
    "    \"Materials, metals\",\n",
    "    \"Textile, apparel, leather\",\n",
    "    \"Wood, furniture, paper\",\n",
    "    \"Other\",\n",
    "]\n",
    "table41.round(3)\n"
   ]
  },
  {
   "cell_type": "code",
   "execution_count": null,
   "metadata": {},
   "outputs": [],
   "source": [
    "last_row = (\n",
    "    table41.groupby(lambda _: True)\n",
    "    .agg(Mean=(\"Mean\", \"mean\"), Obs=(\"Obs\", \"sum\"), Corr=(\"Corr\", \"mean\"))\n",
    "    .reset_index(drop=True)\n",
    ")\n",
    "last_row.index = [\"All\"]\n",
    "table41 = table41.append(last_row)"
   ]
  },
  {
   "cell_type": "code",
   "execution_count": null,
   "metadata": {},
   "outputs": [],
   "source": [
    "table41 = table41.filter([\"Corr\", \"Mean\", \"Obs\"]).reset_index()\n",
    "table41.columns = [\n",
    "    \"Industry\",\n",
    "    \"Management - employment correlation\",\n",
    "    \"Management score\",\n",
    "    \"Observations\",\n",
    "]"
   ]
  },
  {
   "cell_type": "code",
   "execution_count": null,
   "metadata": {
    "scrolled": false
   },
   "outputs": [],
   "source": [
    "table41.round(2)\n"
   ]
  },
  {
   "cell_type": "code",
   "execution_count": null,
   "metadata": {},
   "outputs": [],
   "source": []
  }
 ],
 "metadata": {
  "kernelspec": {
   "display_name": "Python 3 (ipykernel)",
   "language": "python",
   "name": "python3"
  },
  "language_info": {
   "codemirror_mode": {
    "name": "ipython",
    "version": 3
   },
   "file_extension": ".py",
   "mimetype": "text/x-python",
   "name": "python",
   "nbconvert_exporter": "python",
   "pygments_lexer": "ipython3",
   "version": "3.10.9"
  },
  "toc": {
   "base_numbering": 1,
   "nav_menu": {},
   "number_sections": false,
   "sideBar": true,
   "skip_h1_title": false,
   "title_cell": "Table of Contents",
   "title_sidebar": "Contents",
   "toc_cell": false,
   "toc_position": {},
   "toc_section_display": true,
   "toc_window_display": false
  },
  "vscode": {
   "interpreter": {
    "hash": "b0fa6594d8f4cbf19f97940f81e996739fb7646882a419484c72d19e05852a7e"
   }
  }
 },
 "nbformat": 4,
 "nbformat_minor": 4
}
