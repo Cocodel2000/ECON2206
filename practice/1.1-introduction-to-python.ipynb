{
 "cells": [
  {
   "cell_type": "markdown",
   "id": "df1182d9",
   "metadata": {},
   "source": [
    "# Data management\n",
    "\n",
    "## Introduction to Python\n",
    "\n",
    "## [Michel Coppée](https://www.uliege.be/cms/c_9054334/fr/repertoire?uid=u224042) & [Malka Guillot](https://malkaguillot.github.io/)\n",
    "\n",
    "## HEC Liège | [ECON2306](https://malkaguillot.github.io/ECON2206-Data-Management/)\n",
    "\n",
    "[![Binder](https://mybinder.org/badge_logo.svg)](https://mybinder.org/v2/gh/malkaguillot/ECON2206-Data-Management-2023/HEAD?labpath=practice%2F1.1-introduction-to-python.ipynb)\n"
   ]
  },
  {
   "cell_type": "markdown",
   "id": "0c855022",
   "metadata": {},
   "source": [
    "### Notebooks - Jupyter"
   ]
  },
  {
   "cell_type": "markdown",
   "id": "204d2835",
   "metadata": {},
   "source": [
    "The Jupyter Notebook is a web application for creating and sharing computational documents. It offers a simple, streamlined, document-centric experience."
   ]
  },
  {
   "cell_type": "markdown",
   "id": "e762f99a",
   "metadata": {},
   "source": [
    "### Let's guess"
   ]
  },
  {
   "cell_type": "code",
   "execution_count": null,
   "id": "3b66cef7",
   "metadata": {},
   "outputs": [],
   "source": [
    "wealth = 0 # no decimals --> integer (int)\n",
    "income = 1000\n",
    "invoice = 100\n",
    "\n",
    "# Compute net income\n",
    "net_income = income - invoice\n",
    "\n",
    "if net_income > 0:\n",
    "    print(\"You're richer !\") # string --> text\n",
    "    \n",
    "wealth = wealth + net_income\n",
    "print(wealth)"
   ]
  },
  {
   "cell_type": "markdown",
   "id": "bccb1e5d",
   "metadata": {},
   "source": [
    "## Syntax\n",
    "### Comments"
   ]
  },
  {
   "cell_type": "code",
   "execution_count": null,
   "id": "c7cea097",
   "metadata": {},
   "outputs": [],
   "source": [
    "# This is a comment"
   ]
  },
  {
   "cell_type": "code",
   "execution_count": null,
   "id": "9df5eb4f",
   "metadata": {},
   "outputs": [],
   "source": [
    "\"\"\"This is a multiline comment consisting in \n",
    "    many lines delimited by three \"s\n",
    "\"\"\""
   ]
  },
  {
   "cell_type": "markdown",
   "id": "d6121ff3",
   "metadata": {},
   "source": [
    "### Getting help\n",
    "Everything is an object.\n",
    "Objects have _attributes_ and _methods_\n"
   ]
  },
  {
   "cell_type": "code",
   "execution_count": null,
   "id": "daf9ae4d",
   "metadata": {},
   "outputs": [],
   "source": [
    "help(42)"
   ]
  },
  {
   "cell_type": "code",
   "execution_count": null,
   "id": "fa69e5b1",
   "metadata": {},
   "outputs": [],
   "source": [
    "help(round)"
   ]
  },
  {
   "cell_type": "markdown",
   "id": "a12e8eb4",
   "metadata": {},
   "source": [
    "### Python Indentation\n",
    "Indentation refers to the spaces at the beginning of a code line.\n",
    "\n",
    "Where in other programming languages the indentation in code is for readability only, the indentation in Python is very important.\n",
    "\n",
    "Python uses indentation to indicate a block of code."
   ]
  },
  {
   "cell_type": "code",
   "execution_count": null,
   "id": "5eb985d4",
   "metadata": {},
   "outputs": [],
   "source": [
    "if 5 > 2:\n",
    "    print(\"Five is greater than two!\") "
   ]
  },
  {
   "cell_type": "code",
   "execution_count": null,
   "id": "da98ae1c",
   "metadata": {},
   "outputs": [],
   "source": [
    "a=1\n",
    "b=2\n",
    "\n",
    "if a==1:\n",
    "    print(\"a:\", a)\n",
    "    if b==2:\n",
    "        print(\"b:\",b)\n",
    "elif a==2:\n",
    "    print(\"other\")\n",
    "    \n",
    "print('end')"
   ]
  },
  {
   "cell_type": "markdown",
   "id": "77f6e937",
   "metadata": {},
   "source": [
    "## Defining functions"
   ]
  },
  {
   "cell_type": "code",
   "execution_count": null,
   "id": "a5c2c8a3",
   "metadata": {},
   "outputs": [],
   "source": [
    "def compute_wealth(income, invoice):\n",
    "    \n",
    "    wealth = income - invoice\n",
    "    \n",
    "    return wealth\n",
    "    \n",
    "# print() is optional in Jupyter but not in a IDE (spyder, VS Code) !     \n",
    "print(compute_wealth(income=1000, invoice=200))"
   ]
  },
  {
   "cell_type": "markdown",
   "id": "b1ee9bba",
   "metadata": {},
   "source": [
    "#### Default arguments"
   ]
  },
  {
   "cell_type": "code",
   "execution_count": null,
   "id": "4bd1496e",
   "metadata": {},
   "outputs": [],
   "source": [
    "help(print)"
   ]
  },
  {
   "cell_type": "code",
   "execution_count": null,
   "id": "f84c1ff9",
   "metadata": {
    "scrolled": true
   },
   "outputs": [],
   "source": [
    "print(1,2,3)\n",
    "\n",
    "print(1,2,3, sep='<')\n",
    "\n",
    "# Blank space matters with string ! \n",
    "print(1,2,3, sep=' < ')"
   ]
  },
  {
   "cell_type": "code",
   "execution_count": null,
   "id": "9919a701",
   "metadata": {},
   "outputs": [],
   "source": [
    "def greet(who=\"Students\"):\n",
    "    print(\"Hello,\", who, 'value')\n",
    "    \n",
    "greet()\n",
    "greet(who=\"Python\")\n",
    "# (In this case, we don't need to specify the name of the argument,\n",
    "# because it's unambiguous.)\n",
    "greet(\"World\")"
   ]
  },
  {
   "cell_type": "markdown",
   "id": "c738c018",
   "metadata": {},
   "source": [
    "## Data types\n",
    "\n",
    "![](images/data-types.png)\n",
    "\n",
    "## Numbers"
   ]
  },
  {
   "cell_type": "code",
   "execution_count": null,
   "id": "198640a1",
   "metadata": {},
   "outputs": [],
   "source": [
    "net_income = 50\n",
    "print(\"netincome type\", type(net_income))\n",
    "print(\"test\", type(19.95))"
   ]
  },
  {
   "cell_type": "markdown",
   "id": "a62a4507",
   "metadata": {},
   "source": [
    "**Jupyter Notebook for Python uses the ipython environment !**"
   ]
  },
  {
   "cell_type": "code",
   "execution_count": null,
   "id": "d0d0a448",
   "metadata": {},
   "outputs": [],
   "source": [
    "# With ipython\n",
    "net_income\n",
    "type(net_income) # can use print() too !"
   ]
  },
  {
   "cell_type": "code",
   "execution_count": null,
   "id": "f6ac557c",
   "metadata": {},
   "outputs": [],
   "source": [
    "# With python (Spyder)\n",
    "print(net_income)\n",
    "print(type(net_income))"
   ]
  },
  {
   "cell_type": "markdown",
   "id": "dd62bcfc",
   "metadata": {},
   "source": [
    "##### Arithmetic Operators "
   ]
  },
  {
   "cell_type": "markdown",
   "id": "f56500f8",
   "metadata": {},
   "source": [
    "Math is what you would expect\n",
    "\n",
    "|**Operator** | **Name** | **Description** |\n",
    "| --- | --- | --- |\n",
    "|a + b |Addition -| Sum of a and b |\n",
    "|a - b | Subtraction | Difference of a and b |\n",
    "|a * b | Multiplication | Product of a and b |\n",
    "|a / b | True division | Quotient of a and b |\n",
    "|a // b | Floor division | Quotient of a and b, removing fractional parts |\n",
    "|a % b | Modulus | Integer remainder after division of a by b |\n",
    "|a ** b | Exponention | a raised to the power of b |\n",
    "|-a | Negation | The negative of a |"
   ]
  },
  {
   "cell_type": "code",
   "execution_count": null,
   "id": "ad744055",
   "metadata": {},
   "outputs": [],
   "source": [
    "1 + 1"
   ]
  },
  {
   "cell_type": "code",
   "execution_count": null,
   "id": "0406a3ba",
   "metadata": {},
   "outputs": [],
   "source": [
    "10 * 2  "
   ]
  },
  {
   "cell_type": "code",
   "execution_count": null,
   "id": "5c4ebef2",
   "metadata": {},
   "outputs": [],
   "source": [
    "35 / 7"
   ]
  },
  {
   "cell_type": "code",
   "execution_count": null,
   "id": "55ce788c",
   "metadata": {},
   "outputs": [],
   "source": [
    "5 / 2  # => 2.5 float since python3 !"
   ]
  },
  {
   "cell_type": "code",
   "execution_count": null,
   "id": "4cc11da1",
   "metadata": {},
   "outputs": [],
   "source": [
    "5 // 2 # -> 2 division was euclidian in python2 "
   ]
  },
  {
   "cell_type": "markdown",
   "id": "4e271abb",
   "metadata": {},
   "source": [
    "Exponentiation (x to the yth power)"
   ]
  },
  {
   "cell_type": "code",
   "execution_count": null,
   "id": "b2794f9d",
   "metadata": {},
   "outputs": [],
   "source": [
    "2 ** 4  # => 16"
   ]
  },
  {
   "cell_type": "markdown",
   "id": "614eda84",
   "metadata": {},
   "source": [
    "##### Built-in functions for numbers"
   ]
  },
  {
   "cell_type": "code",
   "execution_count": null,
   "id": "fbdfbc34",
   "metadata": {},
   "outputs": [],
   "source": [
    "print(min(1,2,3))\n",
    "print(max(1,2,3))\n",
    "print(abs(-32))\n",
    "\n",
    "print(float(10))\n",
    "print(int(3.33))\n",
    "\n",
    "print(int('807') + 1)"
   ]
  },
  {
   "cell_type": "markdown",
   "id": "d4f1d1f6",
   "metadata": {},
   "source": [
    "<div class=\"alert alert-info\">\n",
    "<h3> Your turn</h3>    \n",
    "</div>"
   ]
  },
  {
   "cell_type": "markdown",
   "id": "0dda3d1e",
   "metadata": {},
   "source": [
    "#### Exercise 1"
   ]
  },
  {
   "cell_type": "code",
   "execution_count": null,
   "id": "c55d1cc0",
   "metadata": {},
   "outputs": [],
   "source": [
    "pi = 3.14159 \n",
    "diameter = 3 \n",
    "\n",
    "# Create a variable called 'radius' equal to half the diameter.\n",
    "radius=diameter/2\n",
    "# Create a variable called 'area', using the formula for the area of a circle: pi times the radius squared.\n",
    "area= pi*radius**2\n",
    "print(area)"
   ]
  },
  {
   "cell_type": "markdown",
   "id": "18dfa638",
   "metadata": {},
   "source": [
    "#### Exercise 2"
   ]
  },
  {
   "cell_type": "code",
   "execution_count": null,
   "id": "8a3924e7",
   "metadata": {},
   "outputs": [],
   "source": [
    "# Store your first name in a variable. \\newline\n",
    "\n",
    "# Tell python to print \"Hello YOUR_NAME, how are you ?\", where YOUR_NAME is your first name. "
   ]
  },
  {
   "cell_type": "markdown",
   "id": "1051f75c",
   "metadata": {},
   "source": [
    "#### Exercise 3"
   ]
  },
  {
   "cell_type": "code",
   "execution_count": null,
   "id": "71a53bd3",
   "metadata": {},
   "outputs": [],
   "source": [
    "# Solve this exercise on Spyder/VS Code ! (Open Anaconda)\n",
    "\n",
    "# Imagine you have to allocate workers to different plants. \n",
    "# Write a function called allocate_workers that takes the number of workers and plants as arguments, \n",
    "# and returns the number of worker that should be allocated to each plant. \n",
    "# Assume equal sharing of workers.\n",
    "\n",
    "# How could you improve that ? "
   ]
  },
  {
   "cell_type": "markdown",
   "id": "1b0ca77e",
   "metadata": {},
   "source": [
    "## Booleans\n",
    "Note: \"and\" and \"or\" are case-sensitive"
   ]
  },
  {
   "cell_type": "code",
   "execution_count": null,
   "id": "425b7318",
   "metadata": {
    "scrolled": true
   },
   "outputs": [],
   "source": [
    "x = True \n",
    "y = False \n",
    "print(x)\n",
    "print(type(x))"
   ]
  },
  {
   "cell_type": "markdown",
   "id": "7a64b8ff",
   "metadata": {},
   "source": [
    "### Boolean operations"
   ]
  },
  {
   "cell_type": "code",
   "execution_count": null,
   "id": "3c997965",
   "metadata": {},
   "outputs": [],
   "source": [
    "True and False  # => False"
   ]
  },
  {
   "cell_type": "code",
   "execution_count": null,
   "id": "a76a214c",
   "metadata": {},
   "outputs": [],
   "source": [
    "False or True  # => True"
   ]
  },
  {
   "cell_type": "markdown",
   "id": "40e345ee",
   "metadata": {},
   "source": [
    "negate with not"
   ]
  },
  {
   "cell_type": "code",
   "execution_count": null,
   "id": "8430c9a8",
   "metadata": {},
   "outputs": [],
   "source": [
    "not True  # => False"
   ]
  },
  {
   "cell_type": "code",
   "execution_count": null,
   "id": "b2ad556d",
   "metadata": {},
   "outputs": [],
   "source": [
    "not False  # => True"
   ]
  },
  {
   "cell_type": "markdown",
   "id": "f99a3ed8",
   "metadata": {},
   "source": [
    "|**Operators** | **Description**|\n",
    "|---|---|\n",
    "|a == b | a equal to b |\n",
    "| a != b | a not equal to b |\n",
    "|a < b | a less than b | \n",
    "|a > b | a greater than b |\n",
    "|a <= b | a less than or equal to b |\n",
    "| a >= b | a greater than or equal to b |"
   ]
  },
  {
   "cell_type": "code",
   "execution_count": null,
   "id": "961539d0",
   "metadata": {},
   "outputs": [],
   "source": [
    "a = 1 == 1  # => True\n",
    "a"
   ]
  },
  {
   "cell_type": "code",
   "execution_count": null,
   "id": "4477e80c",
   "metadata": {},
   "outputs": [],
   "source": [
    "2 == 1  # => False"
   ]
  },
  {
   "cell_type": "code",
   "execution_count": null,
   "id": "f8c791b5",
   "metadata": {},
   "outputs": [],
   "source": [
    "1 != 1  # => False"
   ]
  },
  {
   "cell_type": "code",
   "execution_count": null,
   "id": "1d2941ce",
   "metadata": {},
   "outputs": [],
   "source": [
    "2 != 1  # => True"
   ]
  },
  {
   "cell_type": "code",
   "execution_count": null,
   "id": "e651ecb2",
   "metadata": {},
   "outputs": [],
   "source": [
    "print(3.0 == 3)\n",
    "print('3' == 3)"
   ]
  },
  {
   "cell_type": "markdown",
   "id": "5c0b7fa5",
   "metadata": {},
   "source": [
    "More comparisons ..."
   ]
  },
  {
   "cell_type": "code",
   "execution_count": null,
   "id": "96826632",
   "metadata": {},
   "outputs": [],
   "source": [
    "1 < 10  # => True"
   ]
  },
  {
   "cell_type": "markdown",
   "id": "230f9a81",
   "metadata": {},
   "source": [
    "Comparisons can be chained!"
   ]
  },
  {
   "cell_type": "code",
   "execution_count": null,
   "id": "36bd1a9e",
   "metadata": {},
   "outputs": [],
   "source": [
    "1 < 2 < 3  # => True"
   ]
  },
  {
   "cell_type": "code",
   "execution_count": null,
   "id": "8c220275",
   "metadata": {},
   "outputs": [],
   "source": [
    "def can_run_for_president(age):\n",
    "    # The US Constitution says you must be at least 35 years old\n",
    "    return age >= 35\n",
    "\n",
    "print(\"Can a 19-year-old run for president?\", can_run_for_president(19))\n",
    "print(\"Can a 45-year-old run for president?\", can_run_for_president(45))"
   ]
  },
  {
   "cell_type": "markdown",
   "id": "143d8140",
   "metadata": {},
   "source": [
    "### Combining booleans values"
   ]
  },
  {
   "cell_type": "code",
   "execution_count": null,
   "id": "1641ad00",
   "metadata": {},
   "outputs": [],
   "source": [
    "def can_run_for_president(age, is_natural_born_citizen):\n",
    "    # The US Constitution says you must be a natural born citizen *and* \n",
    "    # at least 35 years old\n",
    "    return is_natural_born_citizen and (age >= 35)\n",
    "\n",
    "print(can_run_for_president(19, True))\n",
    "print(can_run_for_president(55, False))\n",
    "print(can_run_for_president(55, True))"
   ]
  },
  {
   "cell_type": "markdown",
   "id": "d62a9125",
   "metadata": {},
   "source": [
    "### Conditionals"
   ]
  },
  {
   "cell_type": "code",
   "execution_count": null,
   "id": "f6ed498e",
   "metadata": {},
   "outputs": [],
   "source": [
    "def inspect(x):\n",
    "    if x == 0:\n",
    "        print(x, \"is zero\")\n",
    "    elif x > 0:\n",
    "        print(x, \"is positive\")\n",
    "    elif x < 0:\n",
    "        print(x, \"is negative\")\n",
    "    else:\n",
    "        print(x, \"is unlike anything I've ever seen...\")\n",
    "\n",
    "inspect(0)\n",
    "inspect(-15)\n",
    "#inspect(1j)"
   ]
  },
  {
   "cell_type": "markdown",
   "id": "e5f34b65",
   "metadata": {},
   "source": [
    "### Boolean conversion"
   ]
  },
  {
   "cell_type": "code",
   "execution_count": null,
   "id": "caa25878",
   "metadata": {},
   "outputs": [],
   "source": [
    "print(bool(1))\n",
    "print(bool(0))\n",
    "print(bool(\"asf\"))\n",
    "print(bool(\"\"))"
   ]
  },
  {
   "cell_type": "markdown",
   "id": "76bceebb",
   "metadata": {},
   "source": [
    "### Your turn !"
   ]
  },
  {
   "cell_type": "markdown",
   "id": "41a528ce",
   "metadata": {},
   "source": [
    "#### Exercise 4"
   ]
  },
  {
   "cell_type": "code",
   "execution_count": null,
   "id": "d40f6aa3",
   "metadata": {},
   "outputs": [],
   "source": [
    "# Write a function called sign which takes a numerical argument and returns \n",
    "# -1 if it's negative, 1 if it's positive, and 0 if it's 0."
   ]
  },
  {
   "cell_type": "markdown",
   "id": "20612b1a",
   "metadata": {},
   "source": [
    "#### Exercise 5"
   ]
  },
  {
   "cell_type": "code",
   "execution_count": null,
   "id": "ec54a857",
   "metadata": {},
   "outputs": [],
   "source": [
    "# Solve this exercise on Spyder ! (Open Anaconda)\n",
    "\n",
    "# Add a condition in the allocate_workers to check if an equal sharing of workers is possible. \n",
    "# If yes, print \"There are X workers per plant.\", where X is the number of workers per plant. \n",
    "# If not, print \"Impossible to allocate workers.\"."
   ]
  },
  {
   "cell_type": "markdown",
   "id": "1079c44f",
   "metadata": {},
   "source": [
    "## Lists as sequences"
   ]
  },
  {
   "cell_type": "markdown",
   "id": "07c33446",
   "metadata": {},
   "source": [
    "\n",
    "Python data structures can be divided into two categories based on the ordering of items: _Sequences_ and _Collections_. Elements in sequences come out in the same order as it is inserted, however ordering in collections is not preserved.\n",
    "\n",
    "Sequences are a generic term for an ordered set which means that the order in which we input the items will be the same when we access them.\n",
    "\n",
    "Python supports six different types of sequences. These are strings, lists, tuples, byte sequences, byte arrays, and range objects.\n",
    "\n",
    "\n",
    "<!-- https://techvidvan.com/tutorials/python-sequences/ -->"
   ]
  },
  {
   "cell_type": "code",
   "execution_count": null,
   "id": "ff7f6ccf",
   "metadata": {},
   "outputs": [],
   "source": [
    "[\"string\", 1, 2]"
   ]
  },
  {
   "cell_type": "code",
   "execution_count": null,
   "id": "1aeeff58",
   "metadata": {},
   "outputs": [],
   "source": [
    "primes = [2, 3, 5, 7]\n",
    "\n",
    "planets = ['Mercury', 'Venus', 'Earth', 'Mars', 'Jupiter', 'Saturn', \n",
    "           'Uranus', 'Neptune']\n",
    "\n",
    "hands = [\n",
    "    ['J', 'Q', 'K'],\n",
    "    ['2', '2', '2'],\n",
    "    ['6', 'A', 'K'], # (Comma after the last element is optional)\n",
    "]\n",
    "\n",
    "hands = [['J', 'Q', 'K'], ['2', '2', '2'], ['6', 'A', 'K']]\n",
    "\n",
    "mixed_list = [32, 'raindrops on roses', help]"
   ]
  },
  {
   "cell_type": "markdown",
   "id": "b71da86c",
   "metadata": {},
   "source": [
    "### Indexing "
   ]
  },
  {
   "cell_type": "code",
   "execution_count": null,
   "id": "7292fe81",
   "metadata": {},
   "outputs": [],
   "source": [
    "print(planets[-1])\n"
   ]
  },
  {
   "cell_type": "code",
   "execution_count": null,
   "id": "7110312a",
   "metadata": {},
   "outputs": [],
   "source": [
    "print(planets[1])\n",
    "print(planets[-1])\n",
    "print(planets[-2])"
   ]
  },
  {
   "cell_type": "markdown",
   "id": "8efcdac5",
   "metadata": {},
   "source": [
    "### Slicing"
   ]
  },
  {
   "cell_type": "code",
   "execution_count": null,
   "id": "9f29bd7a",
   "metadata": {},
   "outputs": [],
   "source": [
    "print(planets[0:3])\n",
    "print(planets[:3])\n",
    "print(planets[3:])\n",
    "print(planets[1:-1])\n",
    "print(planets[-3:])"
   ]
  },
  {
   "cell_type": "markdown",
   "id": "faa769cd",
   "metadata": {},
   "source": [
    "### Changing lists"
   ]
  },
  {
   "cell_type": "code",
   "execution_count": null,
   "id": "5767c477",
   "metadata": {},
   "outputs": [],
   "source": [
    "planets[3] = 'Malacandra'\n",
    "print(planets)"
   ]
  },
  {
   "cell_type": "markdown",
   "id": "0b90ea78",
   "metadata": {},
   "source": [
    "### Functions associated with lists"
   ]
  },
  {
   "cell_type": "code",
   "execution_count": null,
   "id": "1bfc1378",
   "metadata": {},
   "outputs": [],
   "source": [
    "print(len(planets))\n",
    "print(sorted(planets))\n",
    "\n",
    "primes = [2, 3, 5, 7]\n",
    "print(sum(primes))\n",
    "print(max(primes))"
   ]
  },
  {
   "cell_type": "markdown",
   "id": "d8aaf1f1",
   "metadata": {},
   "source": [
    "### Methods"
   ]
  },
  {
   "cell_type": "markdown",
   "id": "49fdadbe",
   "metadata": {},
   "source": [
    "Everything in Python is an Object ! It means that it carries attributes and methods."
   ]
  },
  {
   "cell_type": "code",
   "execution_count": null,
   "id": "e215f8b8",
   "metadata": {},
   "outputs": [],
   "source": [
    "planets.append('Pluto')\n",
    "print(planets)\n",
    "\n",
    "planets.pop()\n",
    "print(planets)"
   ]
  },
  {
   "cell_type": "markdown",
   "id": "36ab2e91",
   "metadata": {},
   "source": [
    "#### Searching"
   ]
  },
  {
   "cell_type": "code",
   "execution_count": null,
   "id": "7662be80",
   "metadata": {},
   "outputs": [],
   "source": [
    "print(planets.index('Earth'))\n",
    "# print(planets.index('Pluto'))\n",
    "print('Earth' in planets)\n",
    "print('Calbefraques' in planets)"
   ]
  },
  {
   "cell_type": "markdown",
   "id": "1acd8e1c",
   "metadata": {},
   "source": [
    "#### More on attributes and methods"
   ]
  },
  {
   "cell_type": "code",
   "execution_count": null,
   "id": "0a05d76b",
   "metadata": {},
   "outputs": [],
   "source": [
    "help(planets)"
   ]
  },
  {
   "cell_type": "markdown",
   "id": "c7bd6eb1",
   "metadata": {},
   "source": [
    "<div class=\"alert alert-info\">\n",
    "<h3> Your turn</h3>    \n",
    "</div>"
   ]
  },
  {
   "cell_type": "markdown",
   "id": "6605c421",
   "metadata": {},
   "source": [
    "#### Exercise 6"
   ]
  },
  {
   "cell_type": "code",
   "execution_count": null,
   "id": "14b45d18",
   "metadata": {},
   "outputs": [],
   "source": [
    "# Write a function which returns the second element of a list. If the list has no second element, return None."
   ]
  },
  {
   "cell_type": "markdown",
   "id": "d86a8273",
   "metadata": {},
   "source": [
    "#### Exercise 7"
   ]
  },
  {
   "cell_type": "code",
   "execution_count": null,
   "id": "4a56b562",
   "metadata": {},
   "outputs": [],
   "source": [
    "# Imagine a list of racers: \n",
    "\n",
    "# r = [\"Mario\", \"Bowser\", \"Luigi\"] \n",
    "\n",
    "# Write a function that sets the first place racer (at the front of the list) to last place and vice versa."
   ]
  },
  {
   "cell_type": "markdown",
   "id": "e1f7a9a0",
   "metadata": {},
   "source": [
    "## Tuples"
   ]
  },
  {
   "cell_type": "code",
   "execution_count": null,
   "id": "837aa31f",
   "metadata": {},
   "outputs": [],
   "source": [
    "t = (1, 2, 3)\n",
    "t = 1, 2, 3 # equivalent to above\n",
    "print(t)\n",
    "\n",
    "#t[0] = 100"
   ]
  },
  {
   "cell_type": "code",
   "execution_count": null,
   "id": "51ded2f6",
   "metadata": {},
   "outputs": [],
   "source": [
    "x = 0.125\n",
    "print(x.as_integer_ratio())"
   ]
  },
  {
   "cell_type": "code",
   "execution_count": null,
   "id": "8eceebbf",
   "metadata": {},
   "outputs": [],
   "source": [
    "numerator, denominator = x.as_integer_ratio()\n",
    "print(numerator / denominator)"
   ]
  },
  {
   "cell_type": "markdown",
   "id": "c08e2277",
   "metadata": {},
   "source": [
    "<div class=\"alert alert-info\">\n",
    "<h3> Your turn</h3>    \n",
    "</div>"
   ]
  },
  {
   "cell_type": "markdown",
   "id": "178dcf7b",
   "metadata": {},
   "source": [
    "#### Exercise 8"
   ]
  },
  {
   "cell_type": "code",
   "execution_count": null,
   "id": "ec38226d",
   "metadata": {},
   "outputs": [],
   "source": [
    "# Solve this exercise on Spyder ! (Open Anaconda)\n",
    "\n",
    "# Let's improve the allocate_workers function. Consider two types of plants: \n",
    "# type A with a capacity of 10, type B with a capacity of 15. \n",
    "# It is more efficient to produce with B plants (economies of scale). \n",
    "# Modify the allocate_workers function such that it allocates workers into B plants first. \n",
    "# The plants are contained in a list. The function should also check if all workers have been allocated to a plant. \n",
    "# If yes, return \"Allocation complete\". If not, return the number of idle workers. "
   ]
  },
  {
   "cell_type": "markdown",
   "id": "f1f94d68",
   "metadata": {},
   "source": [
    "## Strings"
   ]
  },
  {
   "cell_type": "code",
   "execution_count": null,
   "id": "aa34ab03",
   "metadata": {},
   "outputs": [],
   "source": [
    "# print('Pluto's a planet!')\n",
    "print(\"Pluto's a planet!\")\n",
    "      \n",
    "# \\'  \\\"  \\\\  \\n  can help\n",
    "print('Pluto\\'s a planet!')"
   ]
  },
  {
   "cell_type": "markdown",
   "id": "574c4d2c",
   "metadata": {},
   "source": [
    "#### Strings are sequences !"
   ]
  },
  {
   "cell_type": "code",
   "execution_count": null,
   "id": "321021dd",
   "metadata": {},
   "outputs": [],
   "source": [
    "planet = 'Pluto'\n",
    "print(planet[0])\n",
    "\n",
    "print(planet[-3:])\n",
    "print(len(planet))\n",
    "print([char+'! ' for char in planet])\n",
    "\n",
    "# strings are immutable. The following won't work:\n",
    "#planet[0] = 'B' \n",
    "# planet.append doesn't work either"
   ]
  },
  {
   "cell_type": "markdown",
   "id": "6b4ce8da",
   "metadata": {},
   "source": [
    "#### Methods"
   ]
  },
  {
   "cell_type": "code",
   "execution_count": null,
   "id": "aa68eb04",
   "metadata": {},
   "outputs": [],
   "source": [
    "claim = \"Pluto is a planet!\"\n",
    "print(claim.upper())\n",
    "print(claim.lower())\n",
    "print(claim.index('plan'))\n",
    "print(claim.startswith('Pluto'))\n",
    "print(claim.endswith('dwarf planet'))"
   ]
  },
  {
   "cell_type": "code",
   "execution_count": null,
   "id": "56da8172",
   "metadata": {},
   "outputs": [],
   "source": [
    "words = claim.split()\n",
    "print(words)\n",
    "\n",
    "datestr = '1956-01-31'\n",
    "year, month, day = datestr.split('-')\n",
    "\n",
    "print(year, month, day)\n",
    "print('/'.join([month, day, year]))"
   ]
  },
  {
   "cell_type": "code",
   "execution_count": null,
   "id": "f83e06ee",
   "metadata": {},
   "outputs": [],
   "source": [
    "planet = 'Pluto'\n",
    "print(planet + ', we miss you.')\n",
    "\n",
    "position = 9\n",
    "print(planet + \", you'll always be the \" + str(position) + \"th planet to me.\")\n",
    "print(\"{}, you'll always be the {}th planet to me.\".format(planet,position))"
   ]
  },
  {
   "cell_type": "markdown",
   "id": "968cb959",
   "metadata": {},
   "source": [
    "## Dictionnaries\n",
    "\n",
    "Unlike sequences, Python collections do not have any order. They are unordered and unindexed data structures. This means that it is not necessary to get the order in which we insert items.\n",
    "\n",
    "Python dictionaries are an **unordered collection** of objects that holds value in a key-value structure. \n",
    "Dictionnaries store mappings. The key should be unique and must be an immutable object like a number, strings, and tuples. The values can be any Python object.\n",
    "\n",
    "<!-- https://techvidvan.com/tutorials/python-collections/ -->"
   ]
  },
  {
   "cell_type": "code",
   "execution_count": null,
   "id": "6370e006",
   "metadata": {},
   "outputs": [],
   "source": [
    "numbers = {'one':1, 'two':2, 'three':3}\n",
    "print(numbers['one']) # Look up values with `[]`\n",
    "\n",
    "numbers['eleven'] = 11 # Assign values\n",
    "print(numbers)\n",
    "\n",
    "numbers['one'] = 'Pluto'\n",
    "print(numbers)"
   ]
  },
  {
   "cell_type": "code",
   "execution_count": null,
   "id": "cf0f2923",
   "metadata": {},
   "outputs": [],
   "source": [
    "planets = ['Mercury', 'Venus', 'Earth', 'Mars', 'Jupiter', 'Saturn',\n",
    "           'Uranus', 'Neptune']\n",
    "\n",
    "planet_to_initial = {planet: planet[0] for planet in planets}\n",
    "print(planet_to_initial)\n",
    "\n",
    "print('Saturn' in planet_to_initial)\n",
    "print('Betelgeuse' in planet_to_initial)"
   ]
  },
  {
   "cell_type": "code",
   "execution_count": null,
   "id": "5d61f775",
   "metadata": {},
   "outputs": [],
   "source": [
    "for k in numbers:\n",
    "    print(\"{} = {}\".format(k, numbers[k]))\n",
    "\n",
    "# Access keys    \n",
    "print(numbers.keys())\n",
    "\n",
    "#Access values\n",
    "print(numbers.values())\n",
    "\n",
    "#Access keys and values\n",
    "for key , value in numbers.items():\n",
    "    print(\"key: {} ; value: {}\".format(key, value))"
   ]
  },
  {
   "cell_type": "markdown",
   "id": "62fc23a3",
   "metadata": {},
   "source": [
    "<div class=\"alert alert-info\">\n",
    "<h3> Your turn</h3>    \n",
    "</div>"
   ]
  },
  {
   "cell_type": "markdown",
   "id": "68581d92",
   "metadata": {},
   "source": [
    "#### Exercise 9"
   ]
  },
  {
   "cell_type": "code",
   "execution_count": null,
   "id": "0795bd24",
   "metadata": {},
   "outputs": [],
   "source": [
    "# Solve this exercise on Spyder ! (Open Anaconda)\n",
    "\n",
    "# Let's improve again the allocate_workers function. Consider that plants are included in a list of dictionaries: \n",
    "\n",
    "plants = [\n",
    "    {'location': 'Brussels', 'type': 'B'},\n",
    "    {'location': 'Liege', 'type': 'A'},\n",
    "    {'location': 'Namur', 'type': 'A'},\n",
    "    {'location': 'Anvers', 'type': 'B'},\n",
    "]\n",
    "\n",
    "# Each plant has a location and type key. \n",
    "# Modify the allocate_workers function such that it allocates workers into B plants first. \n",
    "# The function should also check if all plants are full. \n",
    "# If yes, return \"All plants are operational.\". \n",
    "# If not, return the plant which is not full using the following format: \n",
    "\n",
    "# \"The type B plant located in Brussels is not full\". \n",
    "\n",
    "# If workers are not allocated, return: \n",
    "\n",
    "# \"X workers are not allocated to a plant\".\n",
    "\n",
    "# Could it be more flexible ? (Hint: type of plants)"
   ]
  },
  {
   "cell_type": "markdown",
   "id": "1eb2a3a4",
   "metadata": {},
   "source": [
    "## Loops"
   ]
  },
  {
   "cell_type": "code",
   "execution_count": null,
   "id": "d2fb461c",
   "metadata": {
    "scrolled": true
   },
   "outputs": [],
   "source": [
    "planets = ['Mercury', 'Venus', 'Earth', 'Mars', 'Jupiter', 'Saturn', 'Uranus', 'Neptune']\n",
    "\n",
    "for planet in planets:\n",
    "    print(planet, end=' ') "
   ]
  },
  {
   "cell_type": "code",
   "execution_count": null,
   "id": "0c2a1365",
   "metadata": {},
   "outputs": [],
   "source": [
    "multiplicands = (2, 2, 2, 3, 3, 5)\n",
    "product = 1\n",
    "\n",
    "for mult in multiplicands:\n",
    "    product = product * mult\n",
    "    \n",
    "print(product)"
   ]
  },
  {
   "cell_type": "code",
   "execution_count": null,
   "id": "48b788f4",
   "metadata": {},
   "outputs": [],
   "source": [
    "s = 'Here iS oNe sEnTenCe'\n",
    "message = ''\n",
    "\n",
    "# print all the uppercase letters in s, one at a time\n",
    "for char in s:\n",
    "    if char.isupper():\n",
    "        print(char, end='')   "
   ]
  },
  {
   "cell_type": "markdown",
   "id": "6fc04313",
   "metadata": {},
   "source": [
    "#### range()"
   ]
  },
  {
   "cell_type": "code",
   "execution_count": null,
   "id": "a4fad959",
   "metadata": {},
   "outputs": [],
   "source": [
    "for i in range(5):\n",
    "    print(\"Doing important work. i =\", i)"
   ]
  },
  {
   "cell_type": "markdown",
   "id": "448641c7",
   "metadata": {},
   "source": [
    "#### while"
   ]
  },
  {
   "cell_type": "code",
   "execution_count": null,
   "id": "f6eef4dc",
   "metadata": {},
   "outputs": [],
   "source": [
    "i = 0\n",
    "while i < 10:\n",
    "    print(i, end=' ')\n",
    "    i += 1 # increase the value of i by 1"
   ]
  },
  {
   "cell_type": "markdown",
   "id": "a6ab0f05",
   "metadata": {},
   "source": [
    "#### List comprehensions"
   ]
  },
  {
   "cell_type": "code",
   "execution_count": null,
   "id": "d6bdb757",
   "metadata": {},
   "outputs": [],
   "source": [
    "# Loop\n",
    "squares = []\n",
    "\n",
    "for n in range(10):\n",
    "    squares.append(n**2)\n",
    "    \n",
    "print(squares)\n",
    "\n",
    "# List comprehension\n",
    "squares = [n**2 for n in range(10)]\n",
    "print(squares)"
   ]
  },
  {
   "cell_type": "markdown",
   "id": "a22224aa",
   "metadata": {},
   "source": [
    "## Working with external libraries "
   ]
  },
  {
   "cell_type": "code",
   "execution_count": null,
   "id": "a4bb6414",
   "metadata": {
    "scrolled": true
   },
   "outputs": [],
   "source": [
    "import math\n",
    "\n",
    "print(dir(math))"
   ]
  },
  {
   "cell_type": "code",
   "execution_count": null,
   "id": "4afcbce1",
   "metadata": {
    "scrolled": true
   },
   "outputs": [],
   "source": [
    "print(math.pi)\n",
    "\n",
    "print(math.log(32,2))"
   ]
  },
  {
   "cell_type": "markdown",
   "id": "36528690",
   "metadata": {},
   "source": [
    "Some modules can have variables referring to other modules.\n",
    "\n",
    "Some modules define their own data types (others than ints, floats, bools, lists,strings, and dicts).\n",
    "\n",
    "You can use the builtin functions:\n",
    "1. type() - tells the type of a something\n",
    "2. dir() - tells what you can do with something\n",
    "3. help() - tells more about something / how to use"
   ]
  },
  {
   "cell_type": "markdown",
   "id": "66a82181",
   "metadata": {},
   "source": [
    "### Numpy"
   ]
  },
  {
   "cell_type": "code",
   "execution_count": null,
   "id": "1041bdb8",
   "metadata": {
    "scrolled": true
   },
   "outputs": [],
   "source": [
    "import numpy as np\n",
    "print(dir(np))\n",
    "\n",
    "# Examples: np.mean ; np.median ; np.min ; np.max ; np.random ; np.sin ; ..."
   ]
  },
  {
   "cell_type": "markdown",
   "id": "3ba0ca26",
   "metadata": {},
   "source": [
    "## Going further"
   ]
  },
  {
   "cell_type": "markdown",
   "id": "4de4580b",
   "metadata": {},
   "source": [
    "1. Class, attributes and methods\n",
    "2. Class inheritance\n",
    "3. Scopes and namespaces\n",
    "4. Regular Expression (RegEx)\n",
    "5. [PEP8](https://peps.python.org/pep-0008/), SOLID principles, [Zen of Python](https://peps.python.org/pep-0020/) \n",
    "6. Design Patterns (Finite State Machine, Observer, ...)"
   ]
  },
  {
   "cell_type": "markdown",
   "id": "7843eb86",
   "metadata": {},
   "source": [
    "## Rreferences"
   ]
  },
  {
   "cell_type": "markdown",
   "id": "658a49a1",
   "metadata": {},
   "source": [
    "- [Ten mintues to Python](https://www.stavros.io/tutorials/python/)\n",
    "- [Learn X in Y minutes where X=python](https://learnxinyminutes.com/docs/python/) \n",
    "- [YouTube video](https://www.youtube.com/c/mCodingWithJamesMurphy)\n",
    "- [The Hitchhiker’s Guide to Python!](https://docs.python-guide.org/)"
   ]
  },
  {
   "cell_type": "code",
   "execution_count": null,
   "id": "46898670",
   "metadata": {},
   "outputs": [],
   "source": []
  }
 ],
 "metadata": {
  "kernelspec": {
   "display_name": "Python 3 (ipykernel)",
   "language": "python",
   "name": "python3"
  },
  "language_info": {
   "codemirror_mode": {
    "name": "ipython",
    "version": 3
   },
   "file_extension": ".py",
   "mimetype": "text/x-python",
   "name": "python",
   "nbconvert_exporter": "python",
   "pygments_lexer": "ipython3",
   "version": "3.10.9"
  },
  "toc": {
   "base_numbering": 1,
   "nav_menu": {},
   "number_sections": false,
   "sideBar": true,
   "skip_h1_title": false,
   "title_cell": "Table of Contents",
   "title_sidebar": "Contents",
   "toc_cell": false,
   "toc_position": {
    "height": "calc(100% - 180px)",
    "left": "10px",
    "top": "150px",
    "width": "165px"
   },
   "toc_section_display": true,
   "toc_window_display": true
  },
  "vscode": {
   "interpreter": {
    "hash": "b0fa6594d8f4cbf19f97940f81e996739fb7646882a419484c72d19e05852a7e"
   }
  }
 },
 "nbformat": 4,
 "nbformat_minor": 5
}
